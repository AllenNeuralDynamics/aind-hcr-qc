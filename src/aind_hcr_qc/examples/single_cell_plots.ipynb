{
 "cells": [
  {
   "cell_type": "code",
   "execution_count": 1,
   "id": "ff74ede5",
   "metadata": {},
   "outputs": [
    {
     "ename": "SyntaxError",
     "evalue": "from __future__ imports must occur at the beginning of the file (segmentation.py, line 11)",
     "output_type": "error",
     "traceback": [
      "Traceback \u001b[0;36m(most recent call last)\u001b[0m:\n",
      "\u001b[0m  File \u001b[1;32m/opt/conda/lib/python3.10/site-packages/IPython/core/interactiveshell.py:3508\u001b[0m in \u001b[1;35mrun_code\u001b[0m\n    exec(code_obj, self.user_global_ns, self.user_ns)\u001b[0m\n",
      "\u001b[0m  Cell \u001b[1;32mIn[1], line 3\u001b[0m\n    import aind_hcr_qc.viz as viz\u001b[0m\n",
      "\u001b[0;36m  File \u001b[0;32m/src/aind-hcr-qc/src/aind_hcr_qc/viz/__init__.py:10\u001b[0;36m\n\u001b[0;31m    from .segmentation import (  # plot_single_cell_segmentation_overview,\u001b[0;36m\n",
      "\u001b[0;36m  File \u001b[0;32m/src/aind-hcr-qc/src/aind_hcr_qc/viz/segmentation.py:11\u001b[0;36m\u001b[0m\n\u001b[0;31m    from __future__ import annotations\u001b[0m\n\u001b[0m    ^\u001b[0m\n\u001b[0;31mSyntaxError\u001b[0m\u001b[0;31m:\u001b[0m from __future__ imports must occur at the beginning of the file\n"
     ]
    }
   ],
   "source": [
    "from pathlib import Path\n",
    "\n",
    "import aind_hcr_qc.viz as viz\n",
    "\n",
    "from aind_hcr_data_loader.hcr_dataset import (\n",
    "    create_hcr_dataset, \n",
    "    create_hcr_dataset_from_config\n",
    ")\n",
    "\n",
    "# notebook reload\n",
    "%load_ext autoreload\n",
    "%autoreload 2\n",
    "\n",
    "data_dir = Path('/root/capsule/data')\n",
    "bucket_name = \"aind-open-data\"\n"
   ]
  },
  {
   "cell_type": "code",
   "execution_count": null,
   "id": "1d29e751",
   "metadata": {},
   "outputs": [],
   "source": [
    "lav_dataset = create_hcr_dataset_from_config(\"755252\", \n",
    "                                              config_path=\"/root/capsule/code/MOUSE_HCR_CONFIG.json\")\n",
    "lav_cxg_m = lav_dataset.create_cell_gene_matrix(unmixed=False)"
   ]
  },
  {
   "cell_type": "code",
   "execution_count": null,
   "id": "95de5f94",
   "metadata": {},
   "outputs": [],
   "source": [
    "rounds = [\"R2\", \"R3\"]\n",
    "pyramid_level = \"0\"\n",
    "plot_cell_id = 45005\n",
    "\n",
    "viz.plot_single_cell_expression_all_rounds(plot_cell_id, lav_dataset, \"0\", rounds, verbose=False)\n",
    "# Save the figure\n"
   ]
  }
 ],
 "metadata": {
  "kernelspec": {
   "display_name": "base",
   "language": "python",
   "name": "python3"
  },
  "language_info": {
   "codemirror_mode": {
    "name": "ipython",
    "version": 3
   },
   "file_extension": ".py",
   "mimetype": "text/x-python",
   "name": "python",
   "nbconvert_exporter": "python",
   "pygments_lexer": "ipython3",
   "version": "3.10.12"
  }
 },
 "nbformat": 4,
 "nbformat_minor": 5
}
